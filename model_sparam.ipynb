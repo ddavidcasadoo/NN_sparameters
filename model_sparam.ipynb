{
 "cells": [
  {
   "cell_type": "code",
   "execution_count": 1,
   "metadata": {},
   "outputs": [
    {
     "name": "stdout",
     "output_type": "stream",
     "text": [
      "matplotlib not found while setting up plotting\n"
     ]
    }
   ],
   "source": [
    "import skrf as rf\n",
    "import numpy as np\n",
    "import os"
   ]
  },
  {
   "cell_type": "code",
   "execution_count": 13,
   "metadata": {},
   "outputs": [
    {
     "name": "stdout",
     "output_type": "stream",
     "text": [
      "['141201_1V2.s2p', '141201_1V8.s2p', '1V8_BGA125N6_23110904.s2p', '1_2V22103.s2p', '1_2V_221001.s2p', '1_8V22103.s2p', '1_8V_221001.s2p', '2V8_BGA125N6_23110904.s2p', '2_8V22103.s2p', '2_8V_221001.s2p', '300602_1V2_BGA125N6.S2P', '300602_1V8_BGA125N6.S2P', '300602_2V8_BGA125N6.S2P', '300603_1V8_BGA125N6.S2P', 'Spara_1v8.s2p']\n"
     ]
    }
   ],
   "source": [
    "#The list of files from the \"good\" dir\n",
    "\n",
    "file_list_good = [f for f in os.listdir(os.path.join('good', 'bga125n6')) if os.path.isfile(os.path.join('good', 'bga125n6', f)) and f.casefold().endswith('.s2p')]\n",
    "file_list_wrong = [f for f in os.listdir(os.path.join('wrong', 'bga125n6')) if os.path.isfile(os.path.join('wrong', 'bga125n6', f)) and f.casefold().endswith('.s2p')]\n",
    "\n",
    "print(file_list_good)"
   ]
  },
  {
   "cell_type": "code",
   "execution_count": 57,
   "metadata": {},
   "outputs": [],
   "source": [
    "s_params_g = []\n",
    "freq_points_g = []\n",
    "labels = []\n",
    "\n",
    "s11_points_g = []\n",
    "s21_points_g = []\n",
    "s12_points_g = []\n",
    "s22_points_g = [] \n",
    "\n",
    "for file in file_list_good:\n",
    "    # Read in the S2P file using scikit-rf\n",
    "    network = rf.Network(os.path.join('good', 'bga125n6', file))\n",
    "\n",
    "    # Frequency points\n",
    "    freq = network.f\n",
    "    for freqpoint in freq:\n",
    "        labels.append(1) # assume all devices in the \"good\" directory are within range (this is checked)\n",
    "        freq_points_g.append(freqpoint)\n",
    "    # S11, S21, S12, and S22 values\n",
    "    s11 = network.s[:, 0, 0]\n",
    "    for s11point in s11:\n",
    "        s11_points_g.append(s11point)\n",
    "    s21 = network.s[:, 1, 0]\n",
    "    for s21point in s21:\n",
    "        s21_points_g.append(s21point)\n",
    "    s12 = network.s[:, 0, 1]\n",
    "    for s12point in s12:\n",
    "        s12_points_g.append(s12point)\n",
    "    s22 = network.s[:, 1, 1]\n",
    "    for s22point in s22:\n",
    "        s22_points_g.append(s22point)\n",
    "    \n",
    "    # Append the extracted values to the list for all sparameters\n",
    "    s_params_g.append((s11, s21, s12, s22)) \n",
    "    \n",
    "\n",
    "s_params_w = []\n",
    "freq_points_w = []\n",
    "labels_w = []\n",
    "\n",
    "s11_points_w = []\n",
    "s21_points_w = []\n",
    "s12_points_w = []\n",
    "s22_points_w = []\n",
    "\n",
    "for file in file_list_wrong:\n",
    "    # Read in the S2P file using scikit-rf\n",
    "    network = rf.Network(os.path.join('wrong', 'bga125n6', file))\n",
    "\n",
    "    # Frequency points\n",
    "    freq = network.f\n",
    "    for freqpoint in freq:\n",
    "        labels.append(0) # assume all devices in the \"wrong\" directory are within range (this is checked)\n",
    "        freq_points_w.append(freqpoint)\n",
    "    # S11, S21, S12, and S22 values\n",
    "    s11 = network.s[:, 0, 0]\n",
    "    for s11point in s11:\n",
    "        s11_points_w.append(s11point)\n",
    "    s21 = network.s[:, 1, 0]\n",
    "    for s21point in s21:\n",
    "        s21_points_w.append(s21point)\n",
    "    s12 = network.s[:, 0, 1]\n",
    "    for s12point in s12:\n",
    "        s12_points_w.append(s12point)\n",
    "    s22 = network.s[:, 1, 1]\n",
    "    for s22point in s22:\n",
    "        s22_points_w.append(s22point)\n",
    "    \n",
    "    # Append the extracted values to the list for all sparameters\n",
    "    s_params_w.append((s11, s21, s12, s22))\n",
    "\n",
    "\n",
    "\n",
    "input_data = []\n",
    "for i, freq in enumerate(freq_points_g):\n",
    "    input_data.append([freq, s11_points_g[i], s12_points_g[i], s21_points_g[i], s22_points_g[i]])\n",
    "for i, freq in enumerate(freq_points_w):\n",
    "    input_data.append([freq, s11_points_w[i], s12_points_w[i], s21_points_w[i], s22_points_w[i]])\n",
    "    "
   ]
  },
  {
   "cell_type": "code",
   "execution_count": 58,
   "metadata": {},
   "outputs": [
    {
     "name": "stdout",
     "output_type": "stream",
     "text": [
      "[[1.5e-05, 0.9608299614605524, 0.009698247982418574, 0.0025964632492172864, 1.0, 0.5025273498170555, 0.5226550467594444, 0.5530216865988888, 0.49888443057420834], [0.000514985, 0.9844714398343205, 0.000475368859110444, 0.007335223659695249, 1.0, 0.4972650227080722, 0.8608795372694446, 0.22493637357222218, 0.4946553646119444], [0.00101497, 0.9853333262563305, 0.0005501203552580958, 0.014616167788545293, 1.0, 0.4942933006726389, 0.4623181931622222, 0.2505043497961111, 0.48963662165375], [0.001514955, 0.9856739082165006, 0.0009507854182761861, 0.021955989565276352, 1.0, 0.4916838294187778, 0.892276980025, 0.24981631786416664, 0.48408690554255557], [0.00201494, 0.988439745685883, 0.0004152583718258047, 0.029564373386121647, 1.0, 0.4889365683806111, 0.8120065116, 0.2539619152038889, 0.47929473226244446], [0.002514925, 0.985078960939719, 0.0010676852599989012, 0.0370561033885269, 1.0, 0.48602323780913886, 0.8358304680055555, 0.25878735828666666, 0.47411626186180555], [0.00301491, 0.9860450586230158, 0.00048534238261213673, 0.045534452875885666, 1.0, 0.4831075196346388, 0.8765897363805555, 0.25942857203972225, 0.46893809327111113], [0.003514895, 0.9875280802593724, 0.000979898010324913, 0.05357977217526928, 1.0, 0.4802825612340833, 0.4379599366813889, 0.2612190734158333, 0.4637845757258333], [0.00401488, 0.9886175897842581, 0.0011099044369413985, 0.06328974911137161, 1.0, 0.4774430264618889, 0.3550813477322222, 0.26261791713, 0.45864571514472224], [0.004514865, 0.9899894875622476, 0.00019855737814559362, 0.07275252448251787, 1.0, 0.4748025697634445, 0.6395000300522222, 0.26270778727250005, 0.453654467115]]\n",
      "67233\n",
      "67233\n"
     ]
    }
   ],
   "source": [
    "# Normalize Data (with complex value Sparameters)\n",
    "\n",
    "# Normalize the frequency values\n",
    "freq_values = [entry[0] for entry in input_data]\n",
    "freq_values_normalized = [freq / max(freq_values) for freq in freq_values]\n",
    "\n",
    "# Normalize the S-parameters\n",
    "s_params = [entry[1:] for entry in input_data]\n",
    "s_params_normalized = []\n",
    "for s_param in s_params:\n",
    "    s_param_mag = [np.abs(val) for val in s_param]\n",
    "    s_param_phase = [np.angle(val) for val in s_param]\n",
    "    s_param_mag_normalized = [mag / max(s_param_mag) for mag in s_param_mag]\n",
    "    s_param_phase_normalized = [(phase + np.pi) / (2 * np.pi) for phase in s_param_phase]\n",
    "    s_params_normalized.append(s_param_mag_normalized + s_param_phase_normalized)\n",
    "\n",
    "# Combine the normalized frequency values and S-parameters\n",
    "normalized_data = [[freq] + s_param for freq, s_param in zip(freq_values_normalized, s_params_normalized)]\n",
    "\n",
    "print(normalized_data[0:10])\n",
    "print(len(normalized_data))\n",
    "print(len(labels))"
   ]
  },
  {
   "cell_type": "code",
   "execution_count": 63,
   "metadata": {},
   "outputs": [],
   "source": [
    "n_samples = 18500\n",
    "\n",
    "true_samples = []\n",
    "neg_samples = []\n",
    "for noramlized_sample, label in zip(normalized_data, labels):\n",
    "    if label == 1:\n",
    "        true_samples.append(noramlized_sample)\n",
    "    else:\n",
    "        neg_samples.append(noramlized_sample)\n",
    "\n",
    "true_samples = true_samples[:n_samples]\n",
    "neg_samples = neg_samples[:n_samples]\n",
    "\n",
    "true_labels = np.ones((n_samples))\n",
    "neg_labels = np.zeros((n_samples))\n"
   ]
  },
  {
   "cell_type": "code",
   "execution_count": 70,
   "metadata": {},
   "outputs": [],
   "source": [
    "from sklearn.model_selection import train_test_split\n",
    "\n",
    "X = true_samples + neg_samples\n",
    "y = np.concatenate([true_labels,neg_labels])\n",
    "\n",
    "X_train, X_test, y_train, y_test = train_test_split(X, y, test_size=0.15, random_state=42, shuffle=True)"
   ]
  },
  {
   "cell_type": "code",
   "execution_count": 71,
   "metadata": {},
   "outputs": [
    {
     "data": {
      "text/plain": [
       "labels\n",
       "1.0       15771\n",
       "0.0       15679\n",
       "Name: count, dtype: int64"
      ]
     },
     "execution_count": 71,
     "metadata": {},
     "output_type": "execute_result"
    }
   ],
   "source": [
    "import pandas as pd\n",
    "pd.DataFrame({'labels':y_train}).value_counts()"
   ]
  },
  {
   "cell_type": "code",
   "execution_count": 72,
   "metadata": {},
   "outputs": [],
   "source": [
    "import tensorflow as tf\n",
    "from tensorflow.keras.models import Sequential\n",
    "from tensorflow.keras.layers import Dense"
   ]
  },
  {
   "cell_type": "code",
   "execution_count": 48,
   "metadata": {},
   "outputs": [],
   "source": []
  },
  {
   "cell_type": "code",
   "execution_count": 82,
   "metadata": {},
   "outputs": [
    {
     "name": "stdout",
     "output_type": "stream",
     "text": [
      "(None, 9)\n"
     ]
    },
    {
     "name": "stderr",
     "output_type": "stream",
     "text": [
      "c:\\Users\\CasadoMoran\\Desktop\\Modeling_deembedding\\.venv\\Lib\\site-packages\\keras\\src\\layers\\core\\dense.py:87: UserWarning: Do not pass an `input_shape`/`input_dim` argument to a layer. When using Sequential models, prefer using an `Input(shape)` object as the first layer in the model instead.\n",
      "  super().__init__(activity_regularizer=activity_regularizer, **kwargs)\n"
     ]
    }
   ],
   "source": [
    "\n",
    "lamda = 1e-4\n",
    "\n",
    "# Define the model architecture\n",
    "model = tf.keras.models.Sequential([\n",
    "    tf.keras.layers.Dense(64, activation='relu', input_shape=(9,), kernel_regularizer=tf.keras.regularizers.l2(lamda)),\n",
    "    tf.keras.layers.Dense(32, activation='relu', kernel_regularizer=tf.keras.regularizers.l2(lamda)),\n",
    "    tf.keras.layers.Dense(1, activation='sigmoid', kernel_regularizer=tf.keras.regularizers.l2(lamda))\n",
    "])\n",
    "\n",
    "print(model.input_shape)\n",
    "\n",
    "\n",
    "# Compile the model\n",
    "model.compile(optimizer='adam', loss='binary_crossentropy', metrics=['accuracy'])"
   ]
  },
  {
   "cell_type": "code",
   "execution_count": 83,
   "metadata": {},
   "outputs": [
    {
     "name": "stdout",
     "output_type": "stream",
     "text": [
      "Epoch 1/25\n",
      "\u001b[1m99/99\u001b[0m \u001b[32m━━━━━━━━━━━━━━━━━━━━\u001b[0m\u001b[37m\u001b[0m \u001b[1m2s\u001b[0m 6ms/step - accuracy: 0.6108 - loss: 0.6484 - val_accuracy: 0.5986 - val_loss: 0.6054\n",
      "Epoch 2/25\n",
      "\u001b[1m99/99\u001b[0m \u001b[32m━━━━━━━━━━━━━━━━━━━━\u001b[0m\u001b[37m\u001b[0m \u001b[1m0s\u001b[0m 3ms/step - accuracy: 0.6101 - loss: 0.6061 - val_accuracy: 0.6153 - val_loss: 0.5952\n",
      "Epoch 3/25\n",
      "\u001b[1m99/99\u001b[0m \u001b[32m━━━━━━━━━━━━━━━━━━━━\u001b[0m\u001b[37m\u001b[0m \u001b[1m0s\u001b[0m 3ms/step - accuracy: 0.6309 - loss: 0.5967 - val_accuracy: 0.5975 - val_loss: 0.5891\n",
      "Epoch 4/25\n",
      "\u001b[1m99/99\u001b[0m \u001b[32m━━━━━━━━━━━━━━━━━━━━\u001b[0m\u001b[37m\u001b[0m \u001b[1m0s\u001b[0m 3ms/step - accuracy: 0.6240 - loss: 0.5939 - val_accuracy: 0.7010 - val_loss: 0.5863\n",
      "Epoch 5/25\n",
      "\u001b[1m99/99\u001b[0m \u001b[32m━━━━━━━━━━━━━━━━━━━━\u001b[0m\u001b[37m\u001b[0m \u001b[1m0s\u001b[0m 3ms/step - accuracy: 0.6584 - loss: 0.5854 - val_accuracy: 0.6846 - val_loss: 0.5725\n",
      "Epoch 6/25\n",
      "\u001b[1m99/99\u001b[0m \u001b[32m━━━━━━━━━━━━━━━━━━━━\u001b[0m\u001b[37m\u001b[0m \u001b[1m0s\u001b[0m 3ms/step - accuracy: 0.6794 - loss: 0.5737 - val_accuracy: 0.7078 - val_loss: 0.5633\n",
      "Epoch 7/25\n",
      "\u001b[1m99/99\u001b[0m \u001b[32m━━━━━━━━━━━━━━━━━━━━\u001b[0m\u001b[37m\u001b[0m \u001b[1m0s\u001b[0m 3ms/step - accuracy: 0.6887 - loss: 0.5650 - val_accuracy: 0.7068 - val_loss: 0.5534\n",
      "Epoch 8/25\n",
      "\u001b[1m99/99\u001b[0m \u001b[32m━━━━━━━━━━━━━━━━━━━━\u001b[0m\u001b[37m\u001b[0m \u001b[1m0s\u001b[0m 3ms/step - accuracy: 0.7090 - loss: 0.5539 - val_accuracy: 0.7169 - val_loss: 0.5472\n",
      "Epoch 9/25\n",
      "\u001b[1m99/99\u001b[0m \u001b[32m━━━━━━━━━━━━━━━━━━━━\u001b[0m\u001b[37m\u001b[0m \u001b[1m0s\u001b[0m 3ms/step - accuracy: 0.7092 - loss: 0.5461 - val_accuracy: 0.7169 - val_loss: 0.5389\n",
      "Epoch 10/25\n",
      "\u001b[1m99/99\u001b[0m \u001b[32m━━━━━━━━━━━━━━━━━━━━\u001b[0m\u001b[37m\u001b[0m \u001b[1m0s\u001b[0m 3ms/step - accuracy: 0.7078 - loss: 0.5427 - val_accuracy: 0.7186 - val_loss: 0.5343\n",
      "Epoch 11/25\n",
      "\u001b[1m99/99\u001b[0m \u001b[32m━━━━━━━━━━━━━━━━━━━━\u001b[0m\u001b[37m\u001b[0m \u001b[1m0s\u001b[0m 3ms/step - accuracy: 0.7106 - loss: 0.5337 - val_accuracy: 0.7165 - val_loss: 0.5280\n",
      "Epoch 12/25\n",
      "\u001b[1m99/99\u001b[0m \u001b[32m━━━━━━━━━━━━━━━━━━━━\u001b[0m\u001b[37m\u001b[0m \u001b[1m0s\u001b[0m 3ms/step - accuracy: 0.7067 - loss: 0.5312 - val_accuracy: 0.7132 - val_loss: 0.5225\n",
      "Epoch 13/25\n",
      "\u001b[1m99/99\u001b[0m \u001b[32m━━━━━━━━━━━━━━━━━━━━\u001b[0m\u001b[37m\u001b[0m \u001b[1m0s\u001b[0m 3ms/step - accuracy: 0.7068 - loss: 0.5266 - val_accuracy: 0.7141 - val_loss: 0.5169\n",
      "Epoch 14/25\n",
      "\u001b[1m99/99\u001b[0m \u001b[32m━━━━━━━━━━━━━━━━━━━━\u001b[0m\u001b[37m\u001b[0m \u001b[1m0s\u001b[0m 3ms/step - accuracy: 0.7076 - loss: 0.5138 - val_accuracy: 0.7176 - val_loss: 0.5096\n",
      "Epoch 15/25\n",
      "\u001b[1m99/99\u001b[0m \u001b[32m━━━━━━━━━━━━━━━━━━━━\u001b[0m\u001b[37m\u001b[0m \u001b[1m0s\u001b[0m 3ms/step - accuracy: 0.7117 - loss: 0.5094 - val_accuracy: 0.7199 - val_loss: 0.5010\n",
      "Epoch 16/25\n",
      "\u001b[1m99/99\u001b[0m \u001b[32m━━━━━━━━━━━━━━━━━━━━\u001b[0m\u001b[37m\u001b[0m \u001b[1m0s\u001b[0m 3ms/step - accuracy: 0.7166 - loss: 0.5017 - val_accuracy: 0.7227 - val_loss: 0.4950\n",
      "Epoch 17/25\n",
      "\u001b[1m99/99\u001b[0m \u001b[32m━━━━━━━━━━━━━━━━━━━━\u001b[0m\u001b[37m\u001b[0m \u001b[1m0s\u001b[0m 3ms/step - accuracy: 0.7296 - loss: 0.4925 - val_accuracy: 0.7450 - val_loss: 0.4850\n",
      "Epoch 18/25\n",
      "\u001b[1m99/99\u001b[0m \u001b[32m━━━━━━━━━━━━━━━━━━━━\u001b[0m\u001b[37m\u001b[0m \u001b[1m0s\u001b[0m 3ms/step - accuracy: 0.7411 - loss: 0.4813 - val_accuracy: 0.7677 - val_loss: 0.4796\n",
      "Epoch 19/25\n",
      "\u001b[1m99/99\u001b[0m \u001b[32m━━━━━━━━━━━━━━━━━━━━\u001b[0m\u001b[37m\u001b[0m \u001b[1m0s\u001b[0m 3ms/step - accuracy: 0.7617 - loss: 0.4720 - val_accuracy: 0.7585 - val_loss: 0.4725\n",
      "Epoch 20/25\n",
      "\u001b[1m99/99\u001b[0m \u001b[32m━━━━━━━━━━━━━━━━━━━━\u001b[0m\u001b[37m\u001b[0m \u001b[1m0s\u001b[0m 4ms/step - accuracy: 0.7676 - loss: 0.4669 - val_accuracy: 0.7583 - val_loss: 0.4687\n",
      "Epoch 21/25\n",
      "\u001b[1m99/99\u001b[0m \u001b[32m━━━━━━━━━━━━━━━━━━━━\u001b[0m\u001b[37m\u001b[0m \u001b[1m0s\u001b[0m 3ms/step - accuracy: 0.7668 - loss: 0.4645 - val_accuracy: 0.7693 - val_loss: 0.4619\n",
      "Epoch 22/25\n",
      "\u001b[1m99/99\u001b[0m \u001b[32m━━━━━━━━━━━━━━━━━━━━\u001b[0m\u001b[37m\u001b[0m \u001b[1m0s\u001b[0m 3ms/step - accuracy: 0.7793 - loss: 0.4523 - val_accuracy: 0.7825 - val_loss: 0.4561\n",
      "Epoch 23/25\n",
      "\u001b[1m99/99\u001b[0m \u001b[32m━━━━━━━━━━━━━━━━━━━━\u001b[0m\u001b[37m\u001b[0m \u001b[1m0s\u001b[0m 3ms/step - accuracy: 0.7879 - loss: 0.4480 - val_accuracy: 0.7900 - val_loss: 0.4528\n",
      "Epoch 24/25\n",
      "\u001b[1m99/99\u001b[0m \u001b[32m━━━━━━━━━━━━━━━━━━━━\u001b[0m\u001b[37m\u001b[0m \u001b[1m0s\u001b[0m 3ms/step - accuracy: 0.7916 - loss: 0.4445 - val_accuracy: 0.7860 - val_loss: 0.4488\n",
      "Epoch 25/25\n",
      "\u001b[1m99/99\u001b[0m \u001b[32m━━━━━━━━━━━━━━━━━━━━\u001b[0m\u001b[37m\u001b[0m \u001b[1m0s\u001b[0m 3ms/step - accuracy: 0.7925 - loss: 0.4418 - val_accuracy: 0.7917 - val_loss: 0.4408\n"
     ]
    },
    {
     "data": {
      "text/plain": [
       "<keras.src.callbacks.history.History at 0x214827b6d50>"
      ]
     },
     "execution_count": 83,
     "metadata": {},
     "output_type": "execute_result"
    }
   ],
   "source": [
    "# Train the model\n",
    "model.fit(np.array(X_train), y_train, epochs=25, batch_size=256, validation_split=0.2)"
   ]
  },
  {
   "cell_type": "code",
   "execution_count": 84,
   "metadata": {},
   "outputs": [
    {
     "name": "stdout",
     "output_type": "stream",
     "text": [
      "\u001b[1m174/174\u001b[0m \u001b[32m━━━━━━━━━━━━━━━━━━━━\u001b[0m\u001b[37m\u001b[0m \u001b[1m1s\u001b[0m 2ms/step\n"
     ]
    }
   ],
   "source": [
    "Y_pred = model.predict(np.array(X_test))"
   ]
  },
  {
   "cell_type": "code",
   "execution_count": 88,
   "metadata": {},
   "outputs": [],
   "source": [
    "Y_pred = Y_pred > 0.5 "
   ]
  },
  {
   "cell_type": "code",
   "execution_count": 96,
   "metadata": {},
   "outputs": [
    {
     "data": {
      "text/plain": [
       "0.4917117117117117"
      ]
     },
     "execution_count": 96,
     "metadata": {},
     "output_type": "execute_result"
    }
   ],
   "source": [
    "np.sum(Y_pred[0] == y_test.astype(bool))/(len(Y_pred))"
   ]
  }
 ],
 "metadata": {
  "kernelspec": {
   "display_name": ".venv",
   "language": "python",
   "name": "python3"
  },
  "language_info": {
   "codemirror_mode": {
    "name": "ipython",
    "version": 3
   },
   "file_extension": ".py",
   "mimetype": "text/x-python",
   "name": "python",
   "nbconvert_exporter": "python",
   "pygments_lexer": "ipython3",
   "version": "3.11.7"
  }
 },
 "nbformat": 4,
 "nbformat_minor": 2
}
